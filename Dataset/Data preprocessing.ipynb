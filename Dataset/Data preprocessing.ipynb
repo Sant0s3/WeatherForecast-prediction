{
 "cells": [
  {
   "cell_type": "markdown",
   "id": "35a180df",
   "metadata": {},
   "source": [
    "# Dataset preprocessing"
   ]
  },
  {
   "cell_type": "code",
   "execution_count": null,
   "id": "3616bde7",
   "metadata": {},
   "outputs": [
    {
     "name": "stdout",
     "output_type": "stream",
     "text": [
      "Merged dataset saved to: D:\\Weather api\\cairo_merged_with_season.csv\n",
      "Total records: 2000\n"
     ]
    }
   ],
   "source": [
    "import pandas as pd\n",
    "\n",
    "# Define the function to map months to seasons\n",
    "def get_season(month):\n",
    "    if month in [3, 4, 5]:\n",
    "        return 'Spring'\n",
    "    elif month in [6, 7, 8]:\n",
    "        return 'Summer'\n",
    "    elif month in [9, 10, 11]:\n",
    "        return 'Fall'\n",
    "    else:\n",
    "        return 'Winter'\n",
    "\n",
    "# File paths\n",
    "file1 = r'D:\\Weather api\\cairo 2020-01-06 to 2022-10-01.csv'\n",
    "file2 = r'D:\\Weather api\\cairo 2022-07-27 to 2025-04-21.csv'\n",
    "\n",
    "# Load the CSV files\n",
    "df1 = pd.read_csv(file1)\n",
    "df2 = pd.read_csv(file2)\n",
    "\n",
    "# Convert 'datetime' to datetime objects\n",
    "df1['datetime'] = pd.to_datetime(df1['datetime'])\n",
    "df2['datetime'] = pd.to_datetime(df2['datetime'])\n",
    "\n",
    "# Add 'season' based on the month\n",
    "df1['season'] = df1['datetime'].dt.month.map(get_season)\n",
    "df2['season'] = df2['datetime'].dt.month.map(get_season)\n",
    "\n",
    "# Merge both DataFrames\n",
    "merged_df = pd.concat([df1, df2], ignore_index=True)\n",
    "\n",
    "# Optional: sort by datetime\n",
    "merged_df = merged_df.sort_values('datetime').reset_index(drop=True)\n",
    "\n",
    "# Save merged DataFrame to CSV\n",
    "output_path = r'D:\\Weather api\\cairo_merged_with_season.csv'\n",
    "merged_df.to_csv(output_path)\n",
    "\n",
    "print(f\"Merged dataset saved to: {output_path}\")\n",
    "print(\"Total records:\", len(merged_df))\n"
   ]
  },
  {
   "cell_type": "code",
   "execution_count": null,
   "id": "db55e433",
   "metadata": {},
   "outputs": [],
   "source": []
  }
 ],
 "metadata": {
  "kernelspec": {
   "display_name": "Python 3",
   "language": "python",
   "name": "python3"
  },
  "language_info": {
   "codemirror_mode": {
    "name": "ipython",
    "version": 3
   },
   "file_extension": ".py",
   "mimetype": "text/x-python",
   "name": "python",
   "nbconvert_exporter": "python",
   "pygments_lexer": "ipython3",
   "version": "3.11.0"
  }
 },
 "nbformat": 4,
 "nbformat_minor": 5
}
